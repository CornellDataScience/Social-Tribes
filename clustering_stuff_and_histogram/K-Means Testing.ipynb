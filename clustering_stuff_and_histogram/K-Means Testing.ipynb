{
 "cells": [
  {
   "cell_type": "code",
   "execution_count": null,
   "metadata": {
    "collapsed": true
   },
   "outputs": [],
   "source": [
    "import pandas\n",
    "import numpy as np\n",
    "import matplotlib.pyplot as plt\n",
    "from matplotlib import style\n",
    "style.use(\"ggplot\")\n",
    "from sklearn.cluster import KMeans\n",
    "from sklearn.decomposition import IncrementalPCA\n",
    "from sklearn import metrics\n",
    "\n",
    "data = pandas.read_csv('similarity-updated.csv', header = None)"
   ]
  },
  {
   "cell_type": "code",
   "execution_count": null,
   "metadata": {
    "collapsed": true
   },
   "outputs": [],
   "source": [
    "array = data.values\n",
    "\n",
    "#KMeans\n",
    "km = KMeans(n_clusters = 2, random_state = 0)\n",
    "kmeans = km.fit(array)\n",
    "\n",
    "centroids = kmeans.cluster_centers_\n",
    "labels = kmeans.labels_\n",
    "\n",
    "colors = [\"g.\", \"r.\"]\n",
    "\n",
    "print(metrics.silhouette_score(data, kmeans.labels_,\n",
    "                                      metric='euclidean'))\n",
    "\n",
    "for x in range(len(data)):\n",
    "    print(\"coordinate:\\n\", data[x], \"label:\", labels[x])\n",
    "    plt.plot(data[x][0], data[x][1], colors[labels[x]], markersize = 5)\n",
    "    \n",
    "plt.scatter(centroids[0], centroids[1], marker = \"x\", s = 25, linewidths = 5, zorder = 10)\n",
    "\n",
    "plt.show()"
   ]
  }
 ],
 "metadata": {
  "kernelspec": {
   "display_name": "Python 3",
   "language": "python",
   "name": "python3"
  },
  "language_info": {
   "codemirror_mode": {
    "name": "ipython",
    "version": 3
   },
   "file_extension": ".py",
   "mimetype": "text/x-python",
   "name": "python",
   "nbconvert_exporter": "python",
   "pygments_lexer": "ipython3",
   "version": "3.6.3"
  }
 },
 "nbformat": 4,
 "nbformat_minor": 2
}
